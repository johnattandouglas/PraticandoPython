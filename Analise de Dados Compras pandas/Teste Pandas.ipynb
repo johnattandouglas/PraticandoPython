{
 "cells": [
  {
   "cell_type": "code",
   "execution_count": null,
   "id": "f1b4ed22-8146-494d-88bf-42c1d12ddbdf",
   "metadata": {},
   "outputs": [],
   "source": [
    "Descobrir porque os clientes estão cancelando"
   ]
  },
  {
   "cell_type": "code",
   "execution_count": null,
   "id": "2ccef799-40db-45da-9fd3-d67da3c7870b",
   "metadata": {},
   "outputs": [],
   "source": [
    "import pandas as pd\n",
    "\n",
    "tabela = pd.read_csv(\"cancelamentos.csv\")\n",
    "tabela = tabela.drop(\"CustomerID\", axis=1)\n",
    "display(tabela)"
   ]
  },
  {
   "cell_type": "code",
   "execution_count": null,
   "id": "cc82054d-7ebc-44d0-9fe8-0ca7240cb17a",
   "metadata": {},
   "outputs": [],
   "source": [
    "# identificando e removendo valores vazios\n",
    "display(tabela.info())\n",
    "tabela = tabela.dropna()\n",
    "display(tabela.info())"
   ]
  },
  {
   "cell_type": "code",
   "execution_count": null,
   "id": "36d52dcc-215f-4358-9f27-2cd910446ad3",
   "metadata": {},
   "outputs": [],
   "source": [
    "# quantas pessoas cancelaram e não cancelaram\n",
    "display(tabela[\"cancelou\"].value_counts())\n",
    "display(tabela[\"cancelou\"].value_counts(normalize=True).map(\"{:.1%}\".format))"
   ]
  },
  {
   "cell_type": "code",
   "execution_count": null,
   "id": "e6409f70-95be-45e5-808a-40c9743c1ddc",
   "metadata": {},
   "outputs": [],
   "source": [
    "display(tabela[\"duracao_contrato\"].value_counts(normalize=True))\n",
    "display(tabela[\"duracao_contrato\"].value_counts())"
   ]
  },
  {
   "cell_type": "code",
   "execution_count": null,
   "id": "0e07dfbf-907e-4e21-a091-f2b9f6a8443d",
   "metadata": {},
   "outputs": [],
   "source": [
    "# analisando o contrato mensal\n",
    "display(tabela.groupby(\"duracao_contrato\").mean(numeric_only=True))\n",
    "# descobrimos aqui que a média de cancelamentos é 1, ou seja, praticamente todos os contratos mensais cancelaram (ou todos)"
   ]
  },
  {
   "cell_type": "code",
   "execution_count": null,
   "id": "653b09af-8c37-455e-8d77-9923bd3a4cc6",
   "metadata": {},
   "outputs": [],
   "source": [
    "# então descobrimos que contrato mensal é ruim, vamos tirar ele e continuar analisando\n",
    "tabela = tabela[tabela[\"duracao_contrato\"]!=\"Monthly\"]\n",
    "display(tabela)\n",
    "display(tabela[\"cancelou\"].value_counts())\n",
    "display(tabela[\"cancelou\"].value_counts(normalize=True).map(\"{:.1%}\".format))"
   ]
  },
  {
   "cell_type": "code",
   "execution_count": null,
   "id": "fca1c97d-390f-46ae-b6c9-8747e30ea6b8",
   "metadata": {},
   "outputs": [],
   "source": [
    "# chegamos agora em menos da metade de pessoas cancelando, mas ainda temos muitas pessoas ai, vamos continuar analisando\n",
    "display(tabela[\"assinatura\"].value_counts(normalize=True))\n",
    "display(tabela.groupby(\"assinatura\").mean(numeric_only=True))\n",
    "# vemos que assinatura é quase 1/3, 1/3, 1/3\n",
    "# e que os cancelamentos são na média bem parecidos, então fica difícil tirar alguma conclusão da média, vamos precisar ir mais a fundo"
   ]
  },
  {
   "cell_type": "code",
   "execution_count": null,
   "id": "75677fed-57e1-4d64-82ed-f9b73e63a70d",
   "metadata": {},
   "outputs": [],
   "source": [
    "# vamos criar gráfico, porque só com números tá difícil de visualizar\n",
    "import plotly.express as px\n",
    "\n",
    "for coluna in tabela.columns:\n",
    "    grafico = px.histogram(tabela, x=coluna, color=\"cancelou\")\n",
    "    grafico.show()"
   ]
  },
  {
   "cell_type": "code",
   "execution_count": null,
   "id": "1d50e94d-3f7d-4372-913e-593957da72f4",
   "metadata": {},
   "outputs": [],
   "source": [
    "# com os graficos a gente consegue descobrir muita coisa:\n",
    "# dias atraso acima de 20 dias, 100% cancela\n",
    "# ligações call center acima de 5 todo mundo cancela\n",
    "\n",
    "tabela = tabela[tabela[\"ligacoes_callcenter\"]<5]\n",
    "tabela = tabela[tabela[\"dias_atraso\"]<=20]\n",
    "display(tabela)\n",
    "display(tabela[\"cancelou\"].value_counts())\n",
    "display(tabela[\"cancelou\"].value_counts(normalize=True).map(\"{:.1%}\".format))\n",
    "\n",
    "# se resolvermos isso, já caímos para 18% de cancelamento\n",
    "# é claro que 100% é utópico, mas com isso já temos as principais causas (ou talvez 3 das principais):\n",
    "# - forma de contrato mensal\n",
    "# - necessidade de ligações no call center\n",
    "# - atraso no pagamento"
   ]
  }
 ],
 "metadata": {
  "kernelspec": {
   "display_name": "Python 3 (ipykernel)",
   "language": "python",
   "name": "python3"
  },
  "language_info": {
   "codemirror_mode": {
    "name": "ipython",
    "version": 3
   },
   "file_extension": ".py",
   "mimetype": "text/x-python",
   "name": "python",
   "nbconvert_exporter": "python",
   "pygments_lexer": "ipython3",
   "version": "3.9.12"
  }
 },
 "nbformat": 4,
 "nbformat_minor": 5
}
